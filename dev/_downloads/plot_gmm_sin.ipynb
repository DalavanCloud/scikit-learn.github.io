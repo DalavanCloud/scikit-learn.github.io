{
  "nbformat_minor": 0, 
  "nbformat": 4, 
  "cells": [
    {
      "execution_count": null, 
      "cell_type": "code", 
      "source": [
        "%matplotlib inline"
      ], 
      "outputs": [], 
      "metadata": {
        "collapsed": false
      }
    }, 
    {
      "source": [
        "\n# Gaussian Mixture Model Sine Curve\n\n\nThis example highlights the advantages of the Dirichlet Process:\ncomplexity control and dealing with sparse data. The dataset is formed\nby 100 points loosely spaced following a noisy sine curve. The fit by\nthe GMM class, using the expectation-maximization algorithm to fit a\nmixture of 10 Gaussian components, finds too-small components and very\nlittle structure. The fits by the Dirichlet process, however, show\nthat the model can either learn a global structure for the data (small\nalpha) or easily interpolate to finding relevant local structure\n(large alpha), never falling into the problems shown by the GMM class.\n"
      ], 
      "cell_type": "markdown", 
      "metadata": {}
    }, 
    {
      "execution_count": null, 
      "cell_type": "code", 
      "source": [
        "import itertools\n\nimport numpy as np\nfrom scipy import linalg\nimport matplotlib.pyplot as plt\nimport matplotlib as mpl\n\nfrom sklearn import mixture\n\ncolor_iter = itertools.cycle(['navy', 'c', 'cornflowerblue', 'gold',\n                              'darkorange'])\n\n\ndef plot_results(X, Y_, means, covariances, index, title):\n    splot = plt.subplot(3, 1, 1 + index)\n    for i, (mean, covar, color) in enumerate(zip(\n            means, covariances, color_iter)):\n        v, w = linalg.eigh(covar)\n        v = 2. * np.sqrt(2.) * np.sqrt(v)\n        u = w[0] / linalg.norm(w[0])\n        # as the DP will not use every component it has access to\n        # unless it needs it, we shouldn't plot the redundant\n        # components.\n        if not np.any(Y_ == i):\n            continue\n        plt.scatter(X[Y_ == i, 0], X[Y_ == i, 1], .8, color=color)\n\n        # Plot an ellipse to show the Gaussian component\n        angle = np.arctan(u[1] / u[0])\n        angle = 180. * angle / np.pi  # convert to degrees\n        ell = mpl.patches.Ellipse(mean, v[0], v[1], 180. + angle, color=color)\n        ell.set_clip_box(splot.bbox)\n        ell.set_alpha(0.5)\n        splot.add_artist(ell)\n\n    plt.xlim(-6., 4. * np.pi - 6.)\n    plt.ylim(-5., 5.)\n    plt.title(title)\n    plt.xticks(())\n    plt.yticks(())\n\n\n# Number of samples per component\nn_samples = 100\n\n# Generate random sample following a sine curve\nnp.random.seed(0)\nX = np.zeros((n_samples, 2))\nstep = 4. * np.pi / n_samples\n\nfor i in range(X.shape[0]):\n    x = i * step - 6.\n    X[i, 0] = x + np.random.normal(0, 0.1)\n    X[i, 1] = 3. * (np.sin(x) + np.random.normal(0, .2))\n\n# Fit a Gaussian mixture with EM using ten components\ngmm = mixture.GaussianMixture(n_components=10, covariance_type='full',\n                              max_iter=100).fit(X)\nplot_results(X, gmm.predict(X), gmm.means_, gmm.covariances_, 0,\n             'Expectation-maximization')\n\n# Fit a Dirichlet process Gaussian mixture using ten components\ndpgmm = mixture.DPGMM(n_components=10, covariance_type='full', alpha=0.01,\n                      n_iter=100).fit(X)\nplot_results(X, dpgmm.predict(X), dpgmm.means_, dpgmm._get_covars(), 1,\n             'Dirichlet Process,alpha=0.01')\n\n\n# Fit a Dirichlet process Gaussian mixture using ten components\ndpgmm = mixture.DPGMM(n_components=10, covariance_type='diag', alpha=100.,\n                      n_iter=100).fit(X)\nplot_results(X, dpgmm.predict(X), dpgmm.means_, dpgmm._get_covars(), 2,\n             'Dirichlet Process,alpha=100.')\nplt.show()"
      ], 
      "outputs": [], 
      "metadata": {
        "collapsed": false
      }
    }
  ], 
  "metadata": {
    "kernelspec": {
      "display_name": "Python 2", 
      "name": "python2", 
      "language": "python"
    }, 
    "language_info": {
      "mimetype": "text/x-python", 
      "nbconvert_exporter": "python", 
      "name": "python", 
      "file_extension": ".py", 
      "version": "2.7.12", 
      "pygments_lexer": "ipython2", 
      "codemirror_mode": {
        "version": 2, 
        "name": "ipython"
      }
    }
  }
}