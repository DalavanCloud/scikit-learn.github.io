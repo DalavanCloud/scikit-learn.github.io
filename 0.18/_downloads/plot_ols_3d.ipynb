{
  "nbformat_minor": 0,
  "cells": [
    {
      "source": [
        "%matplotlib inline"
      ],
      "metadata": {
        "collapsed": false
      },
      "execution_count": null,
      "outputs": [],
      "cell_type": "code"
    },
    {
      "source": [
        "\n=========================================================\nSparsity Example: Fitting only features 1  and 2\n=========================================================\n\nFeatures 1 and 2 of the diabetes-dataset are fitted and\nplotted below. It illustrates that although feature 2\nhas a strong coefficient on the full model, it does not\ngive us much regarding `y` when compared to just feature 1\n\n"
      ],
      "metadata": {},
      "cell_type": "markdown"
    },
    {
      "source": [
        "print(__doc__)\n\n\n# Code source: Ga\u00ebl Varoquaux\n# Modified for documentation by Jaques Grobler\n# License: BSD 3 clause\n\nimport matplotlib.pyplot as plt\nimport numpy as np\nfrom mpl_toolkits.mplot3d import Axes3D\n\nfrom sklearn import datasets, linear_model\n\ndiabetes = datasets.load_diabetes()\nindices = (0, 1)\n\nX_train = diabetes.data[:-20, indices]\nX_test = diabetes.data[-20:, indices]\ny_train = diabetes.target[:-20]\ny_test = diabetes.target[-20:]\n\nols = linear_model.LinearRegression()\nols.fit(X_train, y_train)"
      ],
      "metadata": {
        "collapsed": false
      },
      "execution_count": null,
      "outputs": [],
      "cell_type": "code"
    },
    {
      "source": [
        "Plot the figure\n"
      ],
      "metadata": {},
      "cell_type": "markdown"
    },
    {
      "source": [
        "def plot_figs(fig_num, elev, azim, X_train, clf):\n    fig = plt.figure(fig_num, figsize=(4, 3))\n    plt.clf()\n    ax = Axes3D(fig, elev=elev, azim=azim)\n\n    ax.scatter(X_train[:, 0], X_train[:, 1], y_train, c='k', marker='+')\n    ax.plot_surface(np.array([[-.1, -.1], [.15, .15]]),\n                    np.array([[-.1, .15], [-.1, .15]]),\n                    clf.predict(np.array([[-.1, -.1, .15, .15],\n                                          [-.1, .15, -.1, .15]]).T\n                                ).reshape((2, 2)),\n                    alpha=.5)\n    ax.set_xlabel('X_1')\n    ax.set_ylabel('X_2')\n    ax.set_zlabel('Y')\n    ax.w_xaxis.set_ticklabels([])\n    ax.w_yaxis.set_ticklabels([])\n    ax.w_zaxis.set_ticklabels([])\n\n#Generate the three different figures from different views\nelev = 43.5\nazim = -110\nplot_figs(1, elev, azim, X_train, ols)\n\nelev = -.5\nazim = 0\nplot_figs(2, elev, azim, X_train, ols)\n\nelev = -.5\nazim = 90\nplot_figs(3, elev, azim, X_train, ols)\n\nplt.show()"
      ],
      "metadata": {
        "collapsed": false
      },
      "execution_count": null,
      "outputs": [],
      "cell_type": "code"
    }
  ],
  "metadata": {
    "kernelspec": {
      "language": "python",
      "name": "python3",
      "display_name": "Python 3"
    },
    "language_info": {
      "pygments_lexer": "ipython3",
      "version": "3.5.2",
      "name": "python",
      "mimetype": "text/x-python",
      "codemirror_mode": {
        "version": 3,
        "name": "ipython"
      },
      "nbconvert_exporter": "python",
      "file_extension": ".py"
    }
  },
  "nbformat": 4
}