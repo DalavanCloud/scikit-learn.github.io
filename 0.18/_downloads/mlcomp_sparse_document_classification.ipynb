{
  "nbformat_minor": 0,
  "cells": [
    {
      "source": [
        "%matplotlib inline"
      ],
      "metadata": {
        "collapsed": false
      },
      "execution_count": null,
      "outputs": [],
      "cell_type": "code"
    },
    {
      "source": [
        "\n========================================================\nClassification of text documents: using a MLComp dataset\n========================================================\n\nThis is an example showing how the scikit-learn can be used to classify\ndocuments by topics using a bag-of-words approach. This example uses\na scipy.sparse matrix to store the features instead of standard numpy arrays.\n\nThe dataset used in this example is the 20 newsgroups dataset and should be\ndownloaded from the http://mlcomp.org (free registration required):\n\n  http://mlcomp.org/datasets/379\n\nOnce downloaded unzip the archive somewhere on your filesystem.\nFor instance in::\n\n  % mkdir -p ~/data/mlcomp\n  % cd  ~/data/mlcomp\n  % unzip /path/to/dataset-379-20news-18828_XXXXX.zip\n\nYou should get a folder ``~/data/mlcomp/379`` with a file named ``metadata``\nand subfolders ``raw``, ``train`` and ``test`` holding the text documents\norganized by newsgroups.\n\nThen set the ``MLCOMP_DATASETS_HOME`` environment variable pointing to\nthe root folder holding the uncompressed archive::\n\n  % export MLCOMP_DATASETS_HOME=\"~/data/mlcomp\"\n\nThen you are ready to run this example using your favorite python shell::\n\n  % ipython examples/mlcomp_sparse_document_classification.py\n\n"
      ],
      "metadata": {},
      "cell_type": "markdown"
    },
    {
      "source": [
        "# Author: Olivier Grisel <olivier.grisel@ensta.org>\n# License: BSD 3 clause\n\nfrom __future__ import print_function\n\nfrom time import time\nimport sys\nimport os\nimport numpy as np\nimport scipy.sparse as sp\nimport matplotlib.pyplot as plt\n\nfrom sklearn.datasets import load_mlcomp\nfrom sklearn.feature_extraction.text import TfidfVectorizer\nfrom sklearn.linear_model import SGDClassifier\nfrom sklearn.metrics import confusion_matrix\nfrom sklearn.metrics import classification_report\nfrom sklearn.naive_bayes import MultinomialNB\n\n\nprint(__doc__)\n\nif 'MLCOMP_DATASETS_HOME' not in os.environ:\n    print(\"MLCOMP_DATASETS_HOME not set; please follow the above instructions\")\n    sys.exit(0)\n\n# Load the training set\nprint(\"Loading 20 newsgroups training set... \")\nnews_train = load_mlcomp('20news-18828', 'train')\nprint(news_train.DESCR)\nprint(\"%d documents\" % len(news_train.filenames))\nprint(\"%d categories\" % len(news_train.target_names))\n\nprint(\"Extracting features from the dataset using a sparse vectorizer\")\nt0 = time()\nvectorizer = TfidfVectorizer(encoding='latin1')\nX_train = vectorizer.fit_transform((open(f).read()\n                                    for f in news_train.filenames))\nprint(\"done in %fs\" % (time() - t0))\nprint(\"n_samples: %d, n_features: %d\" % X_train.shape)\nassert sp.issparse(X_train)\ny_train = news_train.target\n\nprint(\"Loading 20 newsgroups test set... \")\nnews_test = load_mlcomp('20news-18828', 'test')\nt0 = time()\nprint(\"done in %fs\" % (time() - t0))\n\nprint(\"Predicting the labels of the test set...\")\nprint(\"%d documents\" % len(news_test.filenames))\nprint(\"%d categories\" % len(news_test.target_names))\n\nprint(\"Extracting features from the dataset using the same vectorizer\")\nt0 = time()\nX_test = vectorizer.transform((open(f).read() for f in news_test.filenames))\ny_test = news_test.target\nprint(\"done in %fs\" % (time() - t0))\nprint(\"n_samples: %d, n_features: %d\" % X_test.shape)"
      ],
      "metadata": {
        "collapsed": false
      },
      "execution_count": null,
      "outputs": [],
      "cell_type": "code"
    },
    {
      "source": [
        "Benchmark classifiers\n"
      ],
      "metadata": {},
      "cell_type": "markdown"
    },
    {
      "source": [
        "def benchmark(clf_class, params, name):\n    print(\"parameters:\", params)\n    t0 = time()\n    clf = clf_class(**params).fit(X_train, y_train)\n    print(\"done in %fs\" % (time() - t0))\n\n    if hasattr(clf, 'coef_'):\n        print(\"Percentage of non zeros coef: %f\"\n              % (np.mean(clf.coef_ != 0) * 100))\n    print(\"Predicting the outcomes of the testing set\")\n    t0 = time()\n    pred = clf.predict(X_test)\n    print(\"done in %fs\" % (time() - t0))\n\n    print(\"Classification report on test set for classifier:\")\n    print(clf)\n    print()\n    print(classification_report(y_test, pred,\n                                target_names=news_test.target_names))\n\n    cm = confusion_matrix(y_test, pred)\n    print(\"Confusion matrix:\")\n    print(cm)\n\n    # Show confusion matrix\n    plt.matshow(cm)\n    plt.title('Confusion matrix of the %s classifier' % name)\n    plt.colorbar()\n\n\nprint(\"Testbenching a linear classifier...\")\nparameters = {\n    'loss': 'hinge',\n    'penalty': 'l2',\n    'n_iter': 50,\n    'alpha': 0.00001,\n    'fit_intercept': True,\n}\n\nbenchmark(SGDClassifier, parameters, 'SGD')\n\nprint(\"Testbenching a MultinomialNB classifier...\")\nparameters = {'alpha': 0.01}\n\nbenchmark(MultinomialNB, parameters, 'MultinomialNB')\n\nplt.show()"
      ],
      "metadata": {
        "collapsed": false
      },
      "execution_count": null,
      "outputs": [],
      "cell_type": "code"
    }
  ],
  "metadata": {
    "kernelspec": {
      "language": "python",
      "name": "python3",
      "display_name": "Python 3"
    },
    "language_info": {
      "pygments_lexer": "ipython3",
      "version": "3.5.2",
      "name": "python",
      "mimetype": "text/x-python",
      "codemirror_mode": {
        "version": 3,
        "name": "ipython"
      },
      "nbconvert_exporter": "python",
      "file_extension": ".py"
    }
  },
  "nbformat": 4
}