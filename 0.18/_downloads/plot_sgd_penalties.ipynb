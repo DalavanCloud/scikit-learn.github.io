{
  "nbformat_minor": 0,
  "cells": [
    {
      "source": [
        "%matplotlib inline"
      ],
      "metadata": {
        "collapsed": false
      },
      "execution_count": null,
      "outputs": [],
      "cell_type": "code"
    },
    {
      "source": [
        "\n==============\nSGD: Penalties\n==============\n\nPlot the contours of the three penalties.\n\nAll of the above are supported by\n:class:`sklearn.linear_model.stochastic_gradient`.\n\n"
      ],
      "metadata": {},
      "cell_type": "markdown"
    },
    {
      "source": [
        "from __future__ import division\nprint(__doc__)\n\nimport numpy as np\nimport matplotlib.pyplot as plt\n\n\ndef l1(xs):\n    return np.array([np.sqrt((1 - np.sqrt(x ** 2.0)) ** 2.0) for x in xs])\n\n\ndef l2(xs):\n    return np.array([np.sqrt(1.0 - x ** 2.0) for x in xs])\n\n\ndef el(xs, z):\n    return np.array([(2 - 2 * x - 2 * z + 4 * x * z -\n                      (4 * z ** 2\n                       - 8 * x * z ** 2\n                       + 8 * x ** 2 * z ** 2\n                       - 16 * x ** 2 * z ** 3\n                       + 8 * x * z ** 3 + 4 * x ** 2 * z ** 4) ** (1. / 2)\n                      - 2 * x * z ** 2) / (2 - 4 * z) for x in xs])\n\n\ndef cross(ext):\n    plt.plot([-ext, ext], [0, 0], \"k-\")\n    plt.plot([0, 0], [-ext, ext], \"k-\")\n\nxs = np.linspace(0, 1, 100)\n\nalpha = 0.501  # 0.5 division throuh zero\n\ncross(1.2)\n\nl1_color = \"navy\"\nl2_color = \"c\"\nelastic_net_color = \"darkorange\"\nlw = 2\n\nplt.plot(xs, l1(xs), color=l1_color, label=\"L1\", lw=lw)\nplt.plot(xs, -1.0 * l1(xs), color=l1_color, lw=lw)\nplt.plot(-1 * xs, l1(xs), color=l1_color, lw=lw)\nplt.plot(-1 * xs, -1.0 * l1(xs), color=l1_color, lw=lw)\n\nplt.plot(xs, l2(xs), color=l2_color, label=\"L2\", lw=lw)\nplt.plot(xs, -1.0 * l2(xs), color=l2_color, lw=lw)\nplt.plot(-1 * xs, l2(xs), color=l2_color, lw=lw)\nplt.plot(-1 * xs, -1.0 * l2(xs), color=l2_color, lw=lw)\n\nplt.plot(xs, el(xs, alpha), color=elastic_net_color, label=\"Elastic Net\", lw=lw)\nplt.plot(xs, -1.0 * el(xs, alpha), color=elastic_net_color, lw=lw)\nplt.plot(-1 * xs, el(xs, alpha), color=elastic_net_color, lw=lw)\nplt.plot(-1 * xs, -1.0 * el(xs, alpha), color=elastic_net_color, lw=lw)\n\nplt.xlabel(r\"$w_0$\")\nplt.ylabel(r\"$w_1$\")\nplt.legend()\n\nplt.axis(\"equal\")\nplt.show()"
      ],
      "metadata": {
        "collapsed": false
      },
      "execution_count": null,
      "outputs": [],
      "cell_type": "code"
    }
  ],
  "metadata": {
    "kernelspec": {
      "language": "python",
      "name": "python3",
      "display_name": "Python 3"
    },
    "language_info": {
      "pygments_lexer": "ipython3",
      "version": "3.5.2",
      "name": "python",
      "mimetype": "text/x-python",
      "codemirror_mode": {
        "version": 3,
        "name": "ipython"
      },
      "nbconvert_exporter": "python",
      "file_extension": ".py"
    }
  },
  "nbformat": 4
}